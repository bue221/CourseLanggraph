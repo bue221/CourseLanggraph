{
 "cells": [
  {
   "cell_type": "code",
   "execution_count": 9,
   "metadata": {},
   "outputs": [
    {
     "name": "stderr",
     "output_type": "stream",
     "text": [
      "/Users/bue221/miniconda3/envs/test/lib/python3.12/site-packages/langchain/indexes/vectorstore.py:171: UserWarning: Using InMemoryVectorStore as the default vectorstore.This memory store won't persist data. You should explicitlyspecify a vectorstore when using VectorstoreIndexCreator\n",
      "  warnings.warn(\n"
     ]
    },
    {
     "name": "stdout",
     "output_type": "stream",
     "text": [
      "Respuesta: {'query': 'como funciona spot2', 'result': 'Spot2 es una plataforma que actúa como intermediario y facilitador en las relaciones entre distintos brokers inmobiliarios, asegurando transparencia, integridad y cumplimiento de regulaciones. Spot2 regula la comunicación entre brokers, supervisa la colaboración y el flujo de información, estableciendo un marco de interacción claro y equitativo. Los usuarios aceptan estos términos al utilizar la plataforma. Spot2 prioriza la integridad y confiabilidad de las operaciones. Los detalles específicos sobre cómo funciona la plataforma y sus características adicionales pueden estar especificados en los términos y condiciones proporcionados por Spot2.'}\n"
     ]
    }
   ],
   "source": [
    "from langchain_community.document_loaders import WebBaseLoader\n",
    "from langchain.indexes.vectorstore import VectorstoreIndexCreator\n",
    "from langchain_openai import ChatOpenAI, OpenAIEmbeddings\n",
    "from langchain.chains import RetrievalQA\n",
    "\n",
    "# Configurar los embeddings de OpenAI\n",
    "embeddings = OpenAIEmbeddings(model=\"text-embedding-3-large\")\n",
    "\n",
    "def extraer_texto_y_preguntar(urls, pregunta):\n",
    "    \"\"\"Carga el contenido de múltiples páginas web, lo indexa y permite hacer preguntas.\"\"\"\n",
    "    \n",
    "    # Cargar el contenido de todas las páginas\n",
    "    documentos = []\n",
    "    for url in urls:\n",
    "        loader = WebBaseLoader(url)\n",
    "        documentos.extend(loader.load())  # Agregar documentos a la lista\n",
    "    \n",
    "    # Crear un índice vectorial con todos los documentos\n",
    "    index = VectorstoreIndexCreator(\n",
    "        embedding=embeddings\n",
    "    ).from_documents(documentos)\n",
    "\n",
    "    # Crear el modelo de lenguaje\n",
    "    llm = ChatOpenAI(model_name=\"gpt-3.5-turbo\")\n",
    "\n",
    "    # Crear la cadena de preguntas y respuestas basada en recuperación (RetrievalQA)\n",
    "    qa = RetrievalQA.from_chain_type(llm=llm, retriever=index.vectorstore.as_retriever())\n",
    "\n",
    "    # Realizar la pregunta\n",
    "    respuesta = qa.invoke(pregunta)\n",
    "    \n",
    "    return respuesta\n",
    "\n",
    "# 📌 Ejemplo de uso con múltiples URLs\n",
    "urls = [\n",
    "    \"https://spot2.mx/terminos-condiciones-broker\",\n",
    "    \"https://spot2.mx/codigo-de-etica\"\n",
    "]\n",
    "pregunta = \"como funciona spot2\"\n",
    "\n",
    "respuesta = extraer_texto_y_preguntar(urls, pregunta)\n",
    "print(f\"Respuesta: {respuesta}\")"
   ]
  }
 ],
 "metadata": {
  "kernelspec": {
   "display_name": "test",
   "language": "python",
   "name": "python3"
  },
  "language_info": {
   "codemirror_mode": {
    "name": "ipython",
    "version": 3
   },
   "file_extension": ".py",
   "mimetype": "text/x-python",
   "name": "python",
   "nbconvert_exporter": "python",
   "pygments_lexer": "ipython3",
   "version": "3.12.9"
  }
 },
 "nbformat": 4,
 "nbformat_minor": 2
}
