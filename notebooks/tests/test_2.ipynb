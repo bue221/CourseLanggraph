{
 "cells": [
  {
   "cell_type": "code",
   "execution_count": null,
   "metadata": {},
   "outputs": [],
   "source": [
    "from dotenv import load_dotenv\n",
    "\n",
    "load_dotenv()"
   ]
  },
  {
   "cell_type": "code",
   "execution_count": 1,
   "metadata": {},
   "outputs": [],
   "source": [
    "from typing import Annotated\n",
    "from typing_extensions import TypedDict\n",
    "\n",
    "from langchain_openai import ChatOpenAI\n",
    "\n",
    "\n",
    "llm = ChatOpenAI(model=\"gpt-4o\")\n",
    "\n",
    "\n"
   ]
  },
  {
   "cell_type": "code",
   "execution_count": 23,
   "metadata": {},
   "outputs": [],
   "source": [
    "from pydantic import BaseModel, Field\n",
    "from langchain_core.messages import SystemMessage, HumanMessage, AIMessage\n",
    "from enum import Enum\n",
    "\n",
    "class Decision(str, Enum):\n",
    "    CONTINUE = \"CONTINUAR\"\n",
    "    ESCALAR = \"ESCALAR\"\n",
    "    NO_REMINDERS = \"NO REMINDERS\"\n",
    "\n",
    "class ResponseFormatter(BaseModel):\n",
    "        \"\"\"Always use this tool to structure your response to the user.\"\"\"\n",
    "\n",
    "        decision: Decision  = Field(description=\"The decision to make\")\n",
    "        reason: str = Field(description=\"The reason for the decision\")\n",
    "        summary: str = Field(description=\"A summary of the conversation\")\n",
    "\n",
    "system_prompt = SystemMessage(\n",
    "        content=\"\"\"\n",
    "Eres un analizador de conversaciones especializado en evaluar interacciones entre usuarios y un bot de atención al cliente. Tu tarea es examinar la interacción y determinar el mejor curso de acción.\n",
    "\n",
    "El bot tiene las siguientes capacidades:\n",
    "- Onboarding y recolección de información inicial\n",
    "- Perfilado de usuarios en diferentes niveles (L0/L1 y L2)\n",
    "- Programación de citas y seguimiento\n",
    "- Enrutamiento inteligente de conversaciones\n",
    "- Síntesis y resumen de información\n",
    "\n",
    "Debes decidir entre tres opciones:\n",
    "\n",
    "1. CONTINUAR (OPCIÓN POR DEFECTO):\n",
    "   - La conversación fluye normalmente\n",
    "   - El bot puede manejar la consulta\n",
    "   - El usuario está satisfecho con las respuestas\n",
    "   - La información solicitada está dentro del alcance del bot\n",
    "   - El bot está proporcionando información útil y relevante\n",
    "\n",
    "2. ESCALAR (SOLO en estos casos específicos):\n",
    "   - El usuario EXPLÍCITAMENTE dice estar molesto o frustrado (ej: \"estoy harto\", \"no me estás ayudando\")\n",
    "   - El bot EXPLÍCITAMENTE indica que no puede resolver la solicitud dos veces, solo en caso de que suceda tres veces (ej: \"lo siento, no puedo ayudarte con eso\")\n",
    "   - El usuario EXPLÍCITAMENTE solicita hablar con un humano (ej: \"quiero hablar con una persona\")\n",
    "   - El usuario muestra enojo EXPLÍCITO en más de 2 mensajes consecutivos\n",
    "\n",
    "3. NO REMINDERS (SOLO en estos casos específicos):\n",
    "   - Se han enviado 2 o más recordatorios consecutivos sin respuesta\n",
    "   - La conversación ha sido marcada como finalizada\n",
    "   - El usuario ha indicado explícitamente que no desea más mensajes\n",
    "   - Se detecta un patrón de mensajes repetitivos del bot\n",
    "\n",
    "IMPORTANTE:\n",
    "- Por defecto, SIEMPRE elige CONTINUAR a menos que se cumplan EXACTAMENTE los criterios para ESCALAR o NO REMINDERS\n",
    "- NO interpretes o infierras situaciones - usa SOLO los criterios explícitos mencionados\n",
    "- La decisión debe basarse en hechos concretos, no en suposiciones\n",
    "- NO escales por complejidad de la consulta a menos que el bot EXPLÍCITAMENTE diga que no puede resolverla\n",
    "- NO escales por precios o detalles específicos a menos que el bot EXPLÍCITAMENTE diga que no puede proporcionarlos\n",
    "\n",
    "Devuelve SOLO una de estas tres palabras: CONTINUAR, ESCALAR, NO REMINDERS.\n",
    "Tu decisión debe basarse en un análisis completo del contexto y la interacción.\n",
    "    \"\"\"\n",
    "    )\n",
    "\n",
    "model = llm.with_structured_output(ResponseFormatter)"
   ]
  },
  {
   "cell_type": "code",
   "execution_count": 25,
   "metadata": {},
   "outputs": [
    {
     "name": "stdout",
     "output_type": "stream",
     "text": [
      "{\"decision\":\"ESCALAR\",\"reason\":\"El usuario ha solicitado explícitamente hablar con un humano.\",\"summary\":\"El usuario está buscando rentar una oficina para vender bebidas y pide que el total sea 3000 MXN en Polanco. Ha solicitado hablar con un humano explícitamente despues de que el bot indicó que no puede ayudar con eso.\"}\n"
     ]
    }
   ],
   "source": [
    "res =model.invoke([\n",
    "    system_prompt,\n",
    "    HumanMessage(content=\"Hola, estoy buscando un espacio para mi empresa\"),\n",
    "    AIMessage(\n",
    "        content=\"Hola, soy Sofía de Spot2 😊. Para ayudarte mejor, ¿qué tipo de espacio estás buscando: local comercial, oficina o bodega industrial?\"\n",
    "        ),\n",
    "        HumanMessage(content=\"rentar una oficina para vender bebidas\"),\n",
    "        HumanMessage(\n",
    "            content=\"1000m2 3000mxn total de la propiedad en polanco\",\n",
    "        ),\n",
    "        AIMessage(\n",
    "            content=\"Lo siento, no puedo ayudarte con eso. ¿Puedo ayudarte con algo más?\"\n",
    "        ),\n",
    "        HumanMessage(content=\"Por favor, habla con un humano\"),\n",
    "])\n",
    "\n",
    "print(res.model_dump_json())"
   ]
  },
  {
   "cell_type": "code",
   "execution_count": 27,
   "metadata": {},
   "outputs": [
    {
     "name": "stdout",
     "output_type": "stream",
     "text": [
      "{\"decision\":\"NO REMINDERS\",\"reason\":\"Se han enviado 2 recordatorios consecutivos sin respuesta del usuario.\",\"summary\":\"El usuario solicita información para rentar una oficina en Polanco pero después no responde a los recordatorios enviados por el bot.\"}\n"
     ]
    }
   ],
   "source": [
    "res =model.invoke([\n",
    "    system_prompt,\n",
    "    HumanMessage(content=\"Hola, estoy buscando un espacio para mi empresa\"),\n",
    "    AIMessage(\n",
    "        content=\"Hola, soy Sofía de Spot2 😊. Para ayudarte mejor, ¿qué tipo de espacio estás buscando: local comercial, oficina o bodega industrial?\"\n",
    "        ),\n",
    "        HumanMessage(content=\"rentar una oficina para vender bebidas\"),\n",
    "        HumanMessage(\n",
    "            content=\"1000m2 3000mxn total de la propiedad en polanco\",\n",
    "        ),\n",
    "        AIMessage(\n",
    "            content=\"Lo siento, no puedo ayudarte con eso. ¿Puedo ayudarte con algo más?\"\n",
    "        ),\n",
    "        AIMessage(content=\"Hola, sigues ahi?\"),\n",
    "        AIMessage(content=\"Hola, mira este es tu proyecto, quieres continuar?\"),\n",
    "])\n",
    "\n",
    "print(res.model_dump_json())"
   ]
  }
 ],
 "metadata": {
  "kernelspec": {
   "display_name": "test",
   "language": "python",
   "name": "python3"
  },
  "language_info": {
   "codemirror_mode": {
    "name": "ipython",
    "version": 3
   },
   "file_extension": ".py",
   "mimetype": "text/x-python",
   "name": "python",
   "nbconvert_exporter": "python",
   "pygments_lexer": "ipython3",
   "version": "3.12.9"
  }
 },
 "nbformat": 4,
 "nbformat_minor": 2
}
