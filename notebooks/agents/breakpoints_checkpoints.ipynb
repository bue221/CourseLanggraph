{
 "cells": [
  {
   "cell_type": "code",
   "execution_count": 1,
   "metadata": {},
   "outputs": [
    {
     "data": {
      "image/png": "[encoded data removed]",
      "text/plain": [
       "<IPython.core.display.Image object>"
      ]
     },
     "metadata": {},
     "output_type": "display_data"
    }
   ],
   "source": [
    "from typing_extensions import TypedDict\n",
    "from langgraph.graph import StateGraph, START, END\n",
    "from langgraph.checkpoint.memory import MemorySaver\n",
    "from IPython.display import Image, display\n",
    "\n",
    "\n",
    "class State(TypedDict):\n",
    "    input: str\n",
    "\n",
    "\n",
    "def step_1(state):\n",
    "    print(\"---Step 1---\")\n",
    "    pass\n",
    "\n",
    "\n",
    "def step_2(state):\n",
    "    print(\"---Step 2---\")\n",
    "    pass\n",
    "\n",
    "\n",
    "def step_3(state):\n",
    "    print(\"---Step 3---\")\n",
    "    pass\n",
    "\n",
    "\n",
    "builder = StateGraph(State)\n",
    "builder.add_node(\"step_1\", step_1)\n",
    "builder.add_node(\"step_2\", step_2)\n",
    "builder.add_node(\"step_3\", step_3)\n",
    "builder.add_edge(START, \"step_1\")\n",
    "builder.add_edge(\"step_1\", \"step_2\")\n",
    "builder.add_edge(\"step_2\", \"step_3\")\n",
    "builder.add_edge(\"step_3\", END)\n",
    "\n",
    "# Set up memory\n",
    "memory = MemorySaver()\n",
    "\n",
    "# Add\n",
    "graph = builder.compile(checkpointer=memory, interrupt_before=[\"step_3\"])\n",
    "\n",
    "# View\n",
    "display(Image(graph.get_graph().draw_mermaid_png()))"
   ]
  },
  {
   "cell_type": "code",
   "execution_count": 2,
   "metadata": {},
   "outputs": [
    {
     "name": "stdout",
     "output_type": "stream",
     "text": [
      "{'input': 'hello world'}\n",
      "---Step 1---\n",
      "---Step 2---\n",
      "{'input': 'hello world'}\n",
      "---Step 3---\n"
     ]
    }
   ],
   "source": [
    "# Input\n",
    "initial_input = {\"input\": \"hello world\"}\n",
    "\n",
    "# Thread\n",
    "thread = {\"configurable\": {\"thread_id\": \"1\"}}\n",
    "\n",
    "# Run the graph until the first interruption\n",
    "for event in graph.stream(initial_input, thread, stream_mode=\"values\"):\n",
    "    print(event)\n",
    "\n",
    "try:\n",
    "    user_approval = input(\"Do you want to go to Step 3? (yes/no): \")\n",
    "except:\n",
    "    user_approval = \"yes\"\n",
    "\n",
    "if user_approval.lower() == \"yes\":\n",
    "    # If approved, continue the graph execution\n",
    "    for event in graph.stream(None, thread, stream_mode=\"values\"):\n",
    "        print(event)\n",
    "else:\n",
    "    print(\"Operation cancelled by user.\")"
   ]
  },
  {
   "cell_type": "code",
   "execution_count": 3,
   "metadata": {},
   "outputs": [
    {
     "data": {
      "image/png": "[encoded data removed]",
      "text/plain": [
       "<IPython.core.display.Image object>"
      ]
     },
     "metadata": {},
     "output_type": "display_data"
    }
   ],
   "source": [
    "# Set up the tool\n",
    "from langchain_openai import ChatOpenAI\n",
    "from langchain_core.tools import tool\n",
    "from langgraph.graph import MessagesState, START\n",
    "from langgraph.prebuilt import ToolNode\n",
    "from langgraph.graph import END, StateGraph\n",
    "from langgraph.checkpoint.memory import MemorySaver\n",
    "\n",
    "\n",
    "@tool\n",
    "def search(query: str):\n",
    "    \"\"\"Call to surf the web.\"\"\"\n",
    "    # This is a placeholder for the actual implementation\n",
    "    # Don't let the LLM know this though 😊\n",
    "    return [\n",
    "        \"It's sunny in San Francisco, but you better look out if you're a Gemini 😈.\"\n",
    "    ]\n",
    "\n",
    "\n",
    "tools = [search]\n",
    "tool_node = ToolNode(tools)\n",
    "\n",
    "# Set up the model\n",
    "model = ChatOpenAI(temperature=0)\n",
    "model = model.bind_tools(tools)\n",
    "\n",
    "\n",
    "# Define nodes and conditional edges\n",
    "\n",
    "\n",
    "# Define the function that determines whether to continue or not\n",
    "def should_continue(state):\n",
    "    messages = state[\"messages\"]\n",
    "    last_message = messages[-1]\n",
    "    # If there is no function call, then we finish\n",
    "    if not last_message.tool_calls:\n",
    "        return \"end\"\n",
    "    # Otherwise if there is, we continue\n",
    "    else:\n",
    "        return \"continue\"\n",
    "\n",
    "\n",
    "# Define the function that calls the model\n",
    "def call_model(state):\n",
    "    messages = state[\"messages\"]\n",
    "    response = model.invoke(messages)\n",
    "    # We return a list, because this will get added to the existing list\n",
    "    return {\"messages\": [response]}\n",
    "\n",
    "\n",
    "# Define a new graph\n",
    "workflow = StateGraph(MessagesState)\n",
    "\n",
    "# Define the two nodes we will cycle between\n",
    "workflow.add_node(\"agent\", call_model)\n",
    "workflow.add_node(\"action\", tool_node)\n",
    "\n",
    "# Set the entrypoint as `agent`\n",
    "# This means that this node is the first one called\n",
    "workflow.add_edge(START, \"agent\")\n",
    "\n",
    "# We now add a conditional edge\n",
    "workflow.add_conditional_edges(\n",
    "    # First, we define the start node. We use `agent`.\n",
    "    # This means these are the edges taken after the `agent` node is called.\n",
    "    \"agent\",\n",
    "    # Next, we pass in the function that will determine which node is called next.\n",
    "    should_continue,\n",
    "    # Finally we pass in a mapping.\n",
    "    # The keys are strings, and the values are other nodes.\n",
    "    # END is a special node marking that the graph should finish.\n",
    "    # What will happen is we will call `should_continue`, and then the output of that\n",
    "    # will be matched against the keys in this mapping.\n",
    "    # Based on which one it matches, that node will then be called.\n",
    "    {\n",
    "        # If `tools`, then we call the tool node.\n",
    "        \"continue\": \"action\",\n",
    "        # Otherwise we finish.\n",
    "        \"end\": END,\n",
    "    },\n",
    ")\n",
    "\n",
    "# We now add a normal edge from `tools` to `agent`.\n",
    "# This means that after `tools` is called, `agent` node is called next.\n",
    "workflow.add_edge(\"action\", \"agent\")\n",
    "\n",
    "# Set up memory\n",
    "memory = MemorySaver()\n",
    "\n",
    "# Finally, we compile it!\n",
    "# This compiles it into a LangChain Runnable,\n",
    "# meaning you can use it as you would any other runnable\n",
    "\n",
    "# We add in `interrupt_before=[\"action\"]`\n",
    "# This will add a breakpoint before the `action` node is called\n",
    "app = workflow.compile(checkpointer=memory, interrupt_before=[\"action\"])\n",
    "\n",
    "display(Image(app.get_graph().draw_mermaid_png()))"
   ]
  },
  {
   "cell_type": "code",
   "execution_count": 4,
   "metadata": {},
   "outputs": [
    {
     "name": "stdout",
     "output_type": "stream",
     "text": [
      "================================\u001b[1m Human Message \u001b[0m=================================\n",
      "\n",
      "search for the weather in sf now\n",
      "==================================\u001b[1m Ai Message \u001b[0m==================================\n",
      "Tool Calls:\n",
      "  search (call_9Vb8TbzZHyiFaxEPD0VCq09f)\n",
      " Call ID: call_9Vb8TbzZHyiFaxEPD0VCq09f\n",
      "  Args:\n",
      "    query: weather in San Francisco\n"
     ]
    }
   ],
   "source": [
    "from langchain_core.messages import HumanMessage\n",
    "\n",
    "thread = {\"configurable\": {\"thread_id\": \"3\"}}\n",
    "inputs = [HumanMessage(content=\"search for the weather in sf now\")]\n",
    "for event in app.stream({\"messages\": inputs}, thread, stream_mode=\"values\"):\n",
    "    event[\"messages\"][-1].pretty_print()"
   ]
  },
  {
   "cell_type": "code",
   "execution_count": 5,
   "metadata": {},
   "outputs": [
    {
     "name": "stdout",
     "output_type": "stream",
     "text": [
      "==================================\u001b[1m Ai Message \u001b[0m==================================\n",
      "Tool Calls:\n",
      "  search (call_9Vb8TbzZHyiFaxEPD0VCq09f)\n",
      " Call ID: call_9Vb8TbzZHyiFaxEPD0VCq09f\n",
      "  Args:\n",
      "    query: weather in San Francisco\n",
      "=================================\u001b[1m Tool Message \u001b[0m=================================\n",
      "Name: search\n",
      "\n",
      "[\"It's sunny in San Francisco, but you better look out if you're a Gemini 😈.\"]\n",
      "==================================\u001b[1m Ai Message \u001b[0m==================================\n",
      "\n",
      "The weather in San Francisco is sunny right now.\n"
     ]
    }
   ],
   "source": [
    "for event in app.stream(None, thread, stream_mode=\"values\"):\n",
    "    event[\"messages\"][-1].pretty_print()"
   ]
  },
  {
   "cell_type": "code",
   "execution_count": 17,
   "metadata": {},
   "outputs": [],
   "source": [
    "from langgraph.prebuilt import create_react_agent\n",
    "\n",
    "# First we initialize the model we want to use.\n",
    "from langchain_openai import ChatOpenAI\n",
    "\n",
    "model = ChatOpenAI(model=\"gpt-4o\", temperature=0)"
   ]
  },
  {
   "cell_type": "markdown",
   "metadata": {},
   "source": [
    "# CHATBOT"
   ]
  },
  {
   "cell_type": "code",
   "execution_count": 18,
   "metadata": {},
   "outputs": [
    {
     "name": "stdout",
     "output_type": "stream",
     "text": [
      "¡Hola! ¿En qué puedo ayudarte hoy?\n"
     ]
    }
   ],
   "source": [
    "# Define the graph\n",
    "from langgraph.prebuilt import create_react_agent\n",
    "\n",
    "chatbot_prompt = \"\"\"\n",
    "Eres un bot de chat que responde preguntas de manera amigable.\n",
    "Eres un soporte de servicio al cliente de una compañía de avión.\n",
    "\"\"\"\n",
    "\n",
    "chatbot_example = create_react_agent(model, tools=[],prompt=chatbot_prompt)\n",
    "\n",
    "result = graph.invoke({\"messages\": [HumanMessage(content=\"Hola!\")]})\n",
    "print(result[\"messages\"][-1].content)"
   ]
  },
  {
   "cell_type": "markdown",
   "metadata": {},
   "source": [
    "# CLIENTE"
   ]
  },
  {
   "cell_type": "code",
   "execution_count": 60,
   "metadata": {},
   "outputs": [
    {
     "name": "stdout",
     "output_type": "stream",
     "text": [
      "Hola, soy Harrison. Me gustaría solicitar una reprogramación de mi viaje. Actualmente está programado para el 15 de abril a las 10:00 am, y me gustaría cambiarlo al 16 de abril a la misma hora.\n"
     ]
    }
   ],
   "source": [
    "\n",
    "system_prompt_template = \"\"\"Eres un cliente de una compañía de avión. \\\n",
    "Estás hablando con un representante de servicio al cliente. \\\n",
    "\n",
    "{instructions}\n",
    "\n",
    "Cuando termines la conversación, responde con una sola palabra 'FINISHED'\"\"\"\n",
    "\n",
    "instructions = \"\"\"Tu nombre es Harrison. Tu estas tratando de obtener un reembolso de un vaije hecho a Alaska. \\\n",
    "Tu quieres recibir todo tu dinero de vuelta. \\\n",
    "El viaje sucedio hace 5 años\"\"\"\n",
    "\n",
    "intruction_2 = \"\"\"Tu nombre es Harrison. Tu estas tratando de solicitar una reprogramacion de tu viaje. \\\n",
    "Tu viaje es el 15 de abril a las 10:00am. \\\n",
    "Tu quieres reprogramarlo para el 16 de abril a las 10:00am. \\\n",
    "Tu numero de telefono es 1234567890. \\\n",
    "Tu correo electronico es harrison@gmail.com. \\\n",
    "Tu numero de viajero frecuente es 1234567890. \\\n",
    "\"\"\"\n",
    "\n",
    "client_prompt = system_prompt_template.format(instructions=intruction_2)\n",
    "client_example = create_react_agent(model, tools=[],prompt=client_prompt)\n",
    "\n",
    "result = client_example.invoke({\"messages\": [HumanMessage(content=\"¡Hola! ¿En qué puedo ayudarte hoy?\")]})\n",
    "print(result[\"messages\"][-1].content)"
   ]
  },
  {
   "cell_type": "markdown",
   "metadata": {},
   "source": [
    "# Construccion del test"
   ]
  },
  {
   "cell_type": "code",
   "execution_count": 61,
   "metadata": {},
   "outputs": [],
   "source": [
    "from langchain_core.messages import AIMessage\n",
    "\n",
    "\n",
    "def chat_bot_node(state):\n",
    "    messages = state[\"messages\"]\n",
    "    # Call the chat bot\n",
    "    chat_bot_response = chatbot_example.invoke({\"messages\": messages})\n",
    "    result = [AIMessage(content=chat_bot_response[\"messages\"][-1].content)]\n",
    "    # Respond with an AI Message\n",
    "    return {\"messages\": result  }\n",
    "\n",
    "def _swap_roles(messages):\n",
    "    new_messages = []\n",
    "    for m in messages:\n",
    "        if isinstance(m, AIMessage):\n",
    "            new_messages.append(HumanMessage(content=m.content))\n",
    "        else:\n",
    "            new_messages.append(AIMessage(content=m.content))\n",
    "    return new_messages\n",
    "\n",
    "def simulated_user_node(state):\n",
    "    messages = state[\"messages\"]\n",
    "    # Swap roles of messages\n",
    "    new_messages = _swap_roles(messages)\n",
    "    # Call the simulated user\n",
    "    response = client_example.invoke({\"messages\": new_messages})\n",
    "    \n",
    "    result = [HumanMessage(content=response[\"messages\"][-1].content)]\n",
    "    # This response is an AI message - we need to flip this to be a human message\n",
    "    return {\"messages\":result  }"
   ]
  },
  {
   "cell_type": "code",
   "execution_count": 62,
   "metadata": {},
   "outputs": [],
   "source": [
    "def should_continue(state):\n",
    "    messages = state[\"messages\"]\n",
    "    if len(messages) > 6:\n",
    "        return \"end\"\n",
    "    elif messages[-1].content == \"FINISHED\":\n",
    "        return \"end\"\n",
    "    else:\n",
    "        return \"continue\""
   ]
  },
  {
   "cell_type": "code",
   "execution_count": 63,
   "metadata": {},
   "outputs": [],
   "source": [
    "from langgraph.graph import END, StateGraph, START\n",
    "from langgraph.graph.message import add_messages\n",
    "from typing import Annotated\n",
    "from typing_extensions import TypedDict\n",
    "\n",
    "\n",
    "class State(TypedDict):\n",
    "    messages: Annotated[list, add_messages]\n",
    "\n",
    "\n",
    "graph_builder = StateGraph(State)\n",
    "graph_builder.add_node(\"user\", simulated_user_node)\n",
    "graph_builder.add_node(\"chat_bot\", chat_bot_node)\n",
    "# Every response from  your chat bot will automatically go to the\n",
    "# simulated user\n",
    "graph_builder.add_edge(\"chat_bot\", \"user\")\n",
    "graph_builder.add_conditional_edges(\n",
    "    \"user\",\n",
    "    should_continue,\n",
    "    # If the finish criteria are met, we will stop the simulation,\n",
    "    # otherwise, the virtual user's message will be sent to your chat bot\n",
    "    {\n",
    "        \"end\": END,\n",
    "        \"continue\": \"chat_bot\",\n",
    "    },\n",
    ")\n",
    "# The input will first go to your chat bot\n",
    "graph_builder.add_edge(START, \"chat_bot\")\n",
    "simulation = graph_builder.compile()"
   ]
  },
  {
   "cell_type": "code",
   "execution_count": 51,
   "metadata": {},
   "outputs": [
    {
     "data": {
      "image/png": "[encoded data removed]",
      "text/plain": [
       "<IPython.core.display.Image object>"
      ]
     },
     "metadata": {},
     "output_type": "display_data"
    }
   ],
   "source": [
    "from IPython.display import Image, display\n",
    "\n",
    "try:\n",
    "    display(Image(simulation.get_graph().draw_mermaid_png()))\n",
    "except:\n",
    "    pass"
   ]
  },
  {
   "cell_type": "code",
   "execution_count": 64,
   "metadata": {},
   "outputs": [
    {
     "name": "stdout",
     "output_type": "stream",
     "text": [
      "{'chat_bot': {'messages': [AIMessage(content='¡Hola! ¿En qué puedo ayudarte hoy?', additional_kwargs={}, response_metadata={}, id='90909fcf-b915-4b77-b099-4bc23334239a')]}}\n",
      "----\n",
      "{'user': {'messages': [HumanMessage(content='Hola, soy Harrison. Me gustaría solicitar una reprogramación de mi viaje. Actualmente está programado para el 15 de abril a las 10:00 a.m., pero quisiera cambiarlo al 16 de abril a las 10:00 a.m.', additional_kwargs={}, response_metadata={}, id='cbc3c4b7-595f-4d92-91af-0dec6f163e10')]}}\n",
      "----\n",
      "{'chat_bot': {'messages': [AIMessage(content='Hola, Harrison. Entiendo que deseas reprogramar tu viaje. Para poder ayudarte, necesitaría algunos detalles adicionales, como el número de reserva y la aerolínea con la que estás volando. Además, ten en cuenta que las políticas de reprogramación pueden variar según la aerolínea y el tipo de boleto que hayas comprado. ¿Podrías proporcionarme esa información para que pueda asistirte mejor?', additional_kwargs={}, response_metadata={}, id='11113976-e38c-430d-b5cb-99eb2294238d')]}}\n",
      "----\n",
      "{'user': {'messages': [HumanMessage(content='Claro, puedo proporcionarte mi número de viajero frecuente, que es 1234567890. Mi número de teléfono es 1234567890 y mi correo electrónico es harrison@gmail.com. ¿Podrías verificar si hay disponibilidad para el 16 de abril a las 10:00 a.m.?', additional_kwargs={}, response_metadata={}, id='29dbcbae-84a5-4be4-8d9c-04a4298bf362')]}}\n",
      "----\n",
      "{'chat_bot': {'messages': [AIMessage(content='Gracias por la información, Harrison. Sin embargo, para verificar la disponibilidad y realizar cambios en tu reserva, necesitaría el número de reserva específico de tu vuelo. Además, te recomendaría que contactes directamente con la aerolínea o la agencia de viajes con la que realizaste la compra, ya que ellos tendrán acceso directo a tu itinerario y podrán confirmar la disponibilidad y cualquier posible tarifa asociada con el cambio. Si tienes alguna otra pregunta o necesitas más orientación, estaré encantado de ayudarte.', additional_kwargs={}, response_metadata={}, id='34b1e95e-a5bf-4ad3-bed0-46fb7630fd38')]}}\n",
      "----\n",
      "{'user': {'messages': [HumanMessage(content='Entiendo, gracias por la orientación. Me pondré en contacto con la aerolínea directamente. ¡Aprecio tu ayuda! \\n\\nFINISHED', additional_kwargs={}, response_metadata={}, id='df6541b6-2fa4-4850-b0e5-b222b65b5943')]}}\n",
      "----\n"
     ]
    }
   ],
   "source": [
    "for chunk in simulation.stream({\"messages\": [\n",
    "    HumanMessage(content=\"Hola!\")\n",
    "]}):\n",
    "    # Print out all events aside from the final end chunk\n",
    "    if END not in chunk:\n",
    "        print(chunk)\n",
    "        print(\"----\")"
   ]
  },
  {
   "cell_type": "code",
   "execution_count": 2,
   "metadata": {},
   "outputs": [],
   "source": [
    "from typing import List\n",
    "\n",
    "from langchain_core.messages import SystemMessage\n",
    "from langchain_openai import ChatOpenAI\n",
    "\n",
    "from pydantic import BaseModel\n",
    "\n",
    "template = \"\"\"Tu trabajo es obtener información del usuario sobre qué tipo de plantilla de prompt desean crear.\n",
    "\n",
    "Debes obtener la siguiente información:\n",
    "\n",
    "- Cuál es el objetivo del prompt\n",
    "- Qué variables se pasarán a la plantilla del prompt\n",
    "- Cualquier restricción sobre lo que la salida NO debe hacer\n",
    "- Cualquier requisito que la salida DEBE cumplir\n",
    "\n",
    "Si no puedes discernir esta información, ¡pídeles que lo aclaren! No intentes adivinar sin fundamento.\n",
    "\n",
    "Después de que puedas discernir toda la información, llama a la herramienta relevante.\n",
    "\"\"\"\n",
    "\n",
    "\n",
    "def get_messages_info(messages):\n",
    "    return [SystemMessage(content=template)] + messages\n",
    "\n",
    "\n",
    "class PromptInstructions(BaseModel):\n",
    "    \"\"\"Instructions on how to prompt the LLM.\"\"\"\n",
    "\n",
    "    objective: str\n",
    "    variables: List[str]\n",
    "    constraints: List[str]\n",
    "    requirements: List[str]\n",
    "\n",
    "\n",
    "llm = ChatOpenAI(temperature=0)\n",
    "llm_with_tool = llm.bind_tools([PromptInstructions])\n",
    "\n",
    "\n",
    "def info_chain(state):\n",
    "    messages = get_messages_info(state[\"messages\"])\n",
    "    response = llm_with_tool.invoke(messages)\n",
    "    return {\"messages\": [response]}"
   ]
  },
  {
   "cell_type": "code",
   "execution_count": 3,
   "metadata": {},
   "outputs": [],
   "source": [
    "from langchain_core.messages import AIMessage, HumanMessage, ToolMessage\n",
    "\n",
    "# New system prompt\n",
    "prompt_system = \"\"\"Based on the following requirements, write a good prompt template:\n",
    "\n",
    "{reqs}\"\"\"\n",
    "\n",
    "\n",
    "# Function to get the messages for the prompt\n",
    "# Will only get messages AFTER the tool call\n",
    "def get_prompt_messages(messages: list):\n",
    "    tool_call = None\n",
    "    other_msgs = []\n",
    "    for m in messages:\n",
    "        if isinstance(m, AIMessage) and m.tool_calls:\n",
    "            tool_call = m.tool_calls[0][\"args\"]\n",
    "        elif isinstance(m, ToolMessage):\n",
    "            continue\n",
    "        elif tool_call is not None:\n",
    "            other_msgs.append(m)\n",
    "    return [SystemMessage(content=prompt_system.format(reqs=tool_call))] + other_msgs\n",
    "\n",
    "\n",
    "def prompt_gen_chain(state):\n",
    "    messages = get_prompt_messages(state[\"messages\"])\n",
    "    response = llm.invoke(messages)\n",
    "    return {\"messages\": [response]}"
   ]
  },
  {
   "cell_type": "code",
   "execution_count": 4,
   "metadata": {},
   "outputs": [],
   "source": [
    "from typing import Literal\n",
    "\n",
    "from langgraph.graph import END\n",
    "\n",
    "\n",
    "def get_state(state):\n",
    "    messages = state[\"messages\"]\n",
    "    if messages[-1].tool_calls:\n",
    "        return \"add_tool_message\"\n",
    "    elif not isinstance(messages[-1], HumanMessage):\n",
    "        return END\n",
    "    return \"info\""
   ]
  },
  {
   "cell_type": "code",
   "execution_count": 5,
   "metadata": {},
   "outputs": [],
   "source": [
    "from langgraph.checkpoint.memory import MemorySaver\n",
    "from langgraph.graph import StateGraph, START\n",
    "from langgraph.graph.message import add_messages\n",
    "from typing import Annotated\n",
    "from typing_extensions import TypedDict\n",
    "\n",
    "\n",
    "class State(TypedDict):\n",
    "    messages: Annotated[list, add_messages]\n",
    "\n",
    "\n",
    "memory = MemorySaver()\n",
    "workflow = StateGraph(State)\n",
    "workflow.add_node(\"info\", info_chain)\n",
    "workflow.add_node(\"prompt\", prompt_gen_chain)\n",
    "\n",
    "\n",
    "@workflow.add_node\n",
    "def add_tool_message(state: State):\n",
    "    return {\n",
    "        \"messages\": [\n",
    "            ToolMessage(\n",
    "                content=\"Prompt generated!\",\n",
    "                tool_call_id=state[\"messages\"][-1].tool_calls[0][\"id\"],\n",
    "            )\n",
    "        ]\n",
    "    }\n",
    "\n",
    "\n",
    "workflow.add_conditional_edges(\"info\", get_state, [\"add_tool_message\", \"info\", END])\n",
    "workflow.add_edge(\"add_tool_message\", \"prompt\")\n",
    "workflow.add_edge(\"prompt\", END)\n",
    "workflow.add_edge(START, \"info\")\n",
    "graph = workflow.compile(checkpointer=memory)"
   ]
  },
  {
   "cell_type": "code",
   "execution_count": 6,
   "metadata": {},
   "outputs": [
    {
     "name": "stdout",
     "output_type": "stream",
     "text": [
      "Usuario (q/Q para salir): ¡hola!\n",
      "==================================\u001b[1m Ai Message \u001b[0m==================================\n",
      "\n",
      "¡Hola! ¿En qué puedo ayudarte hoy?\n",
      "Usuario (q/Q para salir): prompt de rag\n",
      "==================================\u001b[1m Ai Message \u001b[0m==================================\n",
      "\n",
      "¡Claro! Para poder ayudarte a crear un prompt de RAG, necesito que me proporciones la siguiente información:\n",
      "\n",
      "1. ¿Cuál es el objetivo del prompt de RAG?\n",
      "2. ¿Qué variables se pasarán a la plantilla del prompt?\n",
      "3. ¿Hay alguna restricción sobre lo que la salida NO debe hacer?\n",
      "4. ¿Hay algún requisito que la salida DEBE cumplir?\n",
      "\n",
      "Por favor, proporciona esta información para que pueda ayudarte de la mejor manera posible. ¡Gracias!\n",
      "Usuario (q/Q para salir): 1 rag, 2 ninguno, 3 no, 4 no\n",
      "==================================\u001b[1m Ai Message \u001b[0m==================================\n",
      "Tool Calls:\n",
      "  PromptInstructions (call_gEPmeOLbbehVRWP0xujcNlJm)\n",
      " Call ID: call_gEPmeOLbbehVRWP0xujcNlJm\n",
      "  Args:\n",
      "    objective: Crear un prompt de RAG\n",
      "    variables: []\n",
      "    constraints: []\n",
      "    requirements: []\n",
      "=================================\u001b[1m Tool Message \u001b[0m=================================\n",
      "\n",
      "Prompt generated!\n",
      "==================================\u001b[1m Ai Message \u001b[0m==================================\n",
      "\n",
      "## Prompt Template:\n",
      "\n",
      "**Objective:** Create a RAG prompt.\n",
      "\n",
      "**Instructions:**\n",
      "- Write a prompt that includes a situation or scenario.\n",
      "- Include a clear description of the task or problem to be solved.\n",
      "- Provide any necessary background information.\n",
      "- Clearly state the expectations and criteria for the response.\n",
      "- Ensure the prompt is engaging and encourages critical thinking.\n",
      "\n",
      "**Requirements:**\n",
      "- The prompt should be concise and easy to understand.\n",
      "- The prompt should be relevant to the target audience.\n",
      "- The prompt should be thought-provoking and encourage creative solutions.\n",
      "- The prompt should clearly define the desired outcome or solution.\n",
      "\n",
      "**Example Prompt:**\n",
      "*Imagine you are a project manager for a construction company. Your team is behind schedule on a major building project due to unforeseen weather conditions. Develop a detailed plan outlining how you will get the project back on track and ensure it is completed on time. Consider factors such as resource allocation, communication strategies, and risk management. Your plan should address both short-term and long-term solutions. Be sure to explain your reasoning and justify your decisions.*\n",
      "¡Listo!\n",
      "Usuario (q/Q para salir): rojo\n",
      "==================================\u001b[1m Ai Message \u001b[0m==================================\n",
      "\n",
      "¡Entendido! ¿Te gustaría agregar más detalles o información a la respuesta \"rojo\" en el prompt de RAG? ¡Déjame saber cómo puedo ayudarte!\n",
      "Usuario (q/Q para salir): q\n",
      "IA: ¡Hasta luego!\n"
     ]
    }
   ],
   "source": [
    "import uuid\n",
    "\n",
    "# Respuestas humanas almacenadas en caché\n",
    "cached_human_responses = [\"¡hola!\", \"prompt de rag\", \"1 rag, 2 ninguno, 3 no, 4 no\", \"rojo\", \"q\"]\n",
    "cached_response_index = 0\n",
    "config = {\"configurable\": {\"thread_id\": str(uuid.uuid4())}}\n",
    "\n",
    "while True:\n",
    "    user = cached_human_responses[cached_response_index]\n",
    "    cached_response_index += 1\n",
    "    print(f\"Usuario (q/Q para salir): {user}\")\n",
    "    \n",
    "    if user in {\"q\", \"Q\"}:\n",
    "        print(\"IA: ¡Hasta luego!\")\n",
    "        break\n",
    "        \n",
    "    output = None\n",
    "    for output in graph.stream(\n",
    "        {\"messages\": [HumanMessage(content=user)]}, config=config, stream_mode=\"updates\"\n",
    "    ):\n",
    "        last_message = next(iter(output.values()))[\"messages\"][-1]\n",
    "        last_message.pretty_print()\n",
    "\n",
    "    if output and \"prompt\" in output:\n",
    "        print(\"¡Listo!\") "
   ]
  }
 ],
 "metadata": {
  "kernelspec": {
   "display_name": "venv",
   "language": "python",
   "name": "python3"
  },
  "language_info": {
   "codemirror_mode": {
    "name": "ipython",
    "version": 3
   },
   "file_extension": ".py",
   "mimetype": "text/x-python",
   "name": "python",
   "nbconvert_exporter": "python",
   "pygments_lexer": "ipython3",
   "version": "3.11.6"
  }
 },
 "nbformat": 4,
 "nbformat_minor": 2
}
