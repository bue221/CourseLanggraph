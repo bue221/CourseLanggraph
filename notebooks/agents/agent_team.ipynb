{
 "cells": [
  {
   "cell_type": "markdown",
   "metadata": {},
   "source": [
    "### Team of Agents with a supervisor"
   ]
  },
  {
   "cell_type": "code",
   "execution_count": 1,
   "metadata": {},
   "outputs": [
    {
     "name": "stderr",
     "output_type": "stream",
     "text": [
      "/Users/bue221/Documents/Study/agents/supervisor/venv/lib/python3.11/site-packages/IPython/core/interactiveshell.py:3549: LangChainDeprecationWarning: As of langchain-core 0.3.0, LangChain uses pydantic v2 internally. The langchain_core.pydantic_v1 module was a compatibility shim for pydantic v1, and should no longer be used. Please update the code to import from Pydantic directly.\n",
      "\n",
      "For example, replace imports like: `from langchain_core.pydantic_v1 import BaseModel`\n",
      "with: `from pydantic import BaseModel`\n",
      "or the v1 compatibility namespace if you are working in a code base that has not been fully upgraded to pydantic 2 yet. \tfrom pydantic.v1 import BaseModel\n",
      "\n",
      "  exec(code_obj, self.user_global_ns, self.user_ns)\n",
      "/Users/bue221/Documents/Study/agents/supervisor/venv/lib/python3.11/site-packages/langchain_openai/chat_models/base.py:1400: UserWarning: Received a Pydantic BaseModel V1 schema. This is not supported by method=\"json_schema\". Please use method=\"function_calling\" or specify schema via JSON Schema or Pydantic V2 BaseModel. Overriding to method=\"function_calling\".\n",
      "  warnings.warn(\n",
      "/Users/bue221/Documents/Study/agents/supervisor/venv/lib/python3.11/site-packages/langchain_openai/chat_models/base.py:1413: UserWarning: Cannot use method='json_schema' with model gpt-3.5-turbo-0125 since it doesn't support OpenAI's Structured Output API. You can see supported models here: https://platform.openai.com/docs/guides/structured-outputs#supported-models. To fix this warning, set `method='function_calling'. Overriding to method='function_calling'.\n",
      "  warnings.warn(\n"
     ]
    }
   ],
   "source": [
    "from langchain_openai import ChatOpenAI\n",
    "from langchain_core.prompts import ChatPromptTemplate\n",
    "from langchain_core.pydantic_v1 import BaseModel, Field\n",
    "\n",
    "\n",
    "class TransferNewsGrader(BaseModel):\n",
    "    \"\"\"Binary score for relevance check on football transfer news.\"\"\"\n",
    "\n",
    "    binary_score: str = Field(\n",
    "        description=\"The article is about football transfers, 'yes' or 'no'\"\n",
    "    )\n",
    "\n",
    "\n",
    "llm = ChatOpenAI(model=\"gpt-3.5-turbo-0125\", temperature=0)\n",
    "structured_llm_grader = llm.with_structured_output(TransferNewsGrader)\n",
    "\n",
    "system = \"\"\"You are a grader assessing whether a news article concerns a football transfer. \\n\n",
    "    Check if the article explicitly mentions player transfers between clubs, potential transfers, or confirmed transfers. \\n\n",
    "    Provide a binary score 'yes' or 'no' to indicate whether the news is about a football transfer.\"\"\"\n",
    "grade_prompt = ChatPromptTemplate.from_messages(\n",
    "    [(\"system\", system), (\"human\", \"News Article:\\n\\n {article}\")]\n",
    ")\n",
    "evaluator = grade_prompt | structured_llm_grader\n",
    "result = evaluator.invoke(\n",
    "    {\"There are rumors messi will switch from real madrid to FC Barcelona\"}\n",
    ")"
   ]
  },
  {
   "cell_type": "code",
   "execution_count": 19,
   "metadata": {},
   "outputs": [
    {
     "name": "stdout",
     "output_type": "stream",
     "text": [
      "can_be_posted='no' meets_word_count='no' is_sensationalistic='no' is_language_german='yes'\n"
     ]
    }
   ],
   "source": [
    "from langchain_openai import ChatOpenAI\n",
    "from langchain_core.prompts import ChatPromptTemplate\n",
    "from langchain_core.pydantic_v1 import BaseModel, Field\n",
    "\n",
    "\n",
    "class ArticlePostabilityGrader(BaseModel):\n",
    "    \"\"\"Binary scores for postability check, word count, sensationalism, and language verification of a news article.\"\"\"\n",
    "\n",
    "    can_be_posted: str = Field(\n",
    "        description=\"The article is ready to be posted, 'yes' or 'no'\"\n",
    "    )\n",
    "    meets_word_count: str = Field(\n",
    "        description=\"The article has at least 200 words, 'yes' or 'no'\"\n",
    "    )\n",
    "    is_sensationalistic: str = Field(\n",
    "        description=\"The article is written in a sensationalistic style, 'yes' or 'no'\"\n",
    "    )\n",
    "    is_language_german: str = Field(\n",
    "        description=\"The language of the article is German, 'yes' or 'no'\"\n",
    "    )\n",
    "\n",
    "\n",
    "llm_postability = ChatOpenAI(model=\"gpt-3.5-turbo-0125\", temperature=0)\n",
    "structured_llm_postability_grader = llm_postability.with_structured_output(\n",
    "    ArticlePostabilityGrader\n",
    ")\n",
    "\n",
    "postability_system = \"\"\"You are a grader assessing whether a news article is ready to be posted, if it meets the minimum word count of 200 words, is written in a sensationalistic style, and if it is in German. \\n\n",
    "    Evaluate the article for grammatical errors, completeness, appropriateness for publication, and EXAGERATED sensationalism. \\n\n",
    "    Also, confirm if the language used in the article is German and it meets the word count requirement. \\n\n",
    "    Provide four binary scores: one to indicate if the article can be posted ('yes' or 'no'), one for adequate word count ('yes' or 'no'), one for sensationalistic writing ('yes' or 'no'), and another if the language is German ('yes' or 'no').\"\"\"\n",
    "postability_grade_prompt = ChatPromptTemplate.from_messages(\n",
    "    [(\"system\", postability_system), (\"human\", \"News Article:\\n\\n {article}\")]\n",
    ")\n",
    "\n",
    "news_chef = postability_grade_prompt | structured_llm_postability_grader\n",
    "\n",
    "result = news_chef.invoke(\n",
    "    {\n",
    "        \"article\": \"Es wurde gemeldet, dass Messi von Real Madrid zu FC Barcelona wechselt.\"\n",
    "    }\n",
    ")\n",
    "\n",
    "print(result)"
   ]
  },
  {
   "cell_type": "code",
   "execution_count": null,
   "metadata": {},
   "outputs": [],
   "source": []
  },
  {
   "cell_type": "code",
   "execution_count": 4,
   "metadata": {},
   "outputs": [
    {
     "name": "stdout",
     "output_type": "stream",
     "text": [
      "Es wurde berichtet, dass Messi von Real Madrid zum FC Barcelona wechseln wird.\n"
     ]
    }
   ],
   "source": [
    "llm_translation = ChatOpenAI(model=\"gpt-3.5-turbo-0125\", temperature=0)\n",
    "\n",
    "translation_system = \"\"\"You are a translator converting articles into German. Translate the text accurately while maintaining the original tone and style.\"\"\"\n",
    "translation_prompt = ChatPromptTemplate.from_messages(\n",
    "    [(\"system\", translation_system), (\"human\", \"Article to translate:\\n\\n {article}\")]\n",
    ")\n",
    "\n",
    "translator = translation_prompt | llm_translation\n",
    "\n",
    "result = translator.invoke(\n",
    "    {\n",
    "        \"article\": \"It has been reported that Messi will transfer from Real Madrid to FC Barcelona.\"\n",
    "    }\n",
    ")\n",
    "print(result.content)"
   ]
  },
  {
   "cell_type": "code",
   "execution_count": 6,
   "metadata": {},
   "outputs": [
    {
     "name": "stdout",
     "output_type": "stream",
     "text": [
      "Lionel Messi, one of the most talented footballers of his generation, has been making headlines with reports suggesting a potential move from Real Madrid to FC Barcelona in the upcoming season. This potential transfer has sent shockwaves through the football world, as Messi has been an iconic figure at Real Madrid for years.\n",
      "\n",
      "Messi's possible move to FC Barcelona would undoubtedly be a significant moment in football history, as it would mark a return to his former club where he enjoyed immense success and adoration from fans. The prospect of seeing Messi don the famous Barcelona jersey once again is a thrilling thought for many football enthusiasts.\n",
      "\n",
      "If this transfer were to materialize, it would not only reshape the dynamics of both clubs but also ignite new rivalries and storylines in the footballing landscape. Fans of both Real Madrid and FC Barcelona are eagerly awaiting further developments on this potential transfer saga.\n",
      "\n",
      "As the football world eagerly anticipates Messi's decision, one thing is certain: his move, if it happens, will be a momentous occasion that will be remembered for years to come.\n"
     ]
    }
   ],
   "source": [
    "llm_expansion = ChatOpenAI(model=\"gpt-3.5-turbo-0125\", temperature=0.5)\n",
    "expansion_system = \"\"\"You are a writer tasked with expanding the given article to at least 200 words while maintaining relevance, coherence, and the original tone.\"\"\"\n",
    "expansion_prompt = ChatPromptTemplate.from_messages(\n",
    "    [(\"system\", expansion_system), (\"human\", \"Original article:\\n\\n {article}\")]\n",
    ")\n",
    "\n",
    "expander = expansion_prompt | llm_expansion\n",
    "\n",
    "article_content = \"Lionel Messi is reportedly considering a move from Real Madrid to FC Barcelona next season.\"\n",
    "result = expander.invoke({\"article\": article_content})\n",
    "print(result.content)"
   ]
  },
  {
   "cell_type": "code",
   "execution_count": 7,
   "metadata": {},
   "outputs": [],
   "source": [
    "from langgraph.graph import StateGraph, END\n",
    "from typing import TypedDict, Literal\n",
    "\n",
    "\n",
    "class AgentState(TypedDict):\n",
    "    article_state: str"
   ]
  },
  {
   "cell_type": "code",
   "execution_count": 8,
   "metadata": {},
   "outputs": [],
   "source": [
    "def get_transfer_news_grade(state: AgentState) -> AgentState:\n",
    "    print(f\"get_transfer_news_grade: Current state: {state}\")\n",
    "    print(\"Evaluator: Reading article but doing nothing to change it...\")\n",
    "    return state"
   ]
  },
  {
   "cell_type": "code",
   "execution_count": 9,
   "metadata": {},
   "outputs": [],
   "source": [
    "def evaluate_article(state: AgentState) -> AgentState:\n",
    "    print(f\"evaluate_article: Current state: {state}\")\n",
    "    print(\"News : Reading article but doing nothing to change it...\")\n",
    "    return state"
   ]
  },
  {
   "cell_type": "code",
   "execution_count": 10,
   "metadata": {},
   "outputs": [],
   "source": [
    "def translate_article(state: AgentState) -> AgentState:\n",
    "    print(f\"translate_article: Current state: {state}\")\n",
    "    article = state[\"article_state\"]\n",
    "    result = translator.invoke({\"article\": article})\n",
    "    state[\"article_state\"] = result.content\n",
    "    return state"
   ]
  },
  {
   "cell_type": "code",
   "execution_count": 11,
   "metadata": {},
   "outputs": [],
   "source": [
    "def expand_article(state: AgentState) -> AgentState:\n",
    "    print(f\"expand_article: Current state: {state}\")\n",
    "    article = state[\"article_state\"]\n",
    "    result = expander.invoke({\"article\": article})\n",
    "    state[\"article_state\"] = result.content\n",
    "    return state"
   ]
  },
  {
   "cell_type": "code",
   "execution_count": 12,
   "metadata": {},
   "outputs": [],
   "source": [
    "def publisher(state: AgentState) -> AgentState:\n",
    "    print(f\"publisher: Current state: {state}\")\n",
    "    print(\"FINAL_STATE in publisher:\", state)\n",
    "    return state"
   ]
  },
  {
   "cell_type": "code",
   "execution_count": 13,
   "metadata": {},
   "outputs": [],
   "source": [
    "def evaluator_router(state: AgentState) -> Literal[\"news_chef\", \"not_relevant\"]:\n",
    "    article = state[\"article_state\"]\n",
    "    evaluator = grade_prompt | structured_llm_grader\n",
    "    result = evaluator.invoke({\"article\": article})\n",
    "    print(f\"evaluator_router: Current state: {state}\")\n",
    "    print(\"Evaluator result: \", result)\n",
    "    if result.binary_score == \"yes\":\n",
    "        return \"news_chef\"\n",
    "    else:\n",
    "        return \"not_relevant\""
   ]
  },
  {
   "cell_type": "code",
   "execution_count": 14,
   "metadata": {},
   "outputs": [],
   "source": [
    "def news_chef_router(\n",
    "    state: AgentState,\n",
    ") -> Literal[\"translator\", \"publisher\", \"expander\"]:\n",
    "    article = state[\"article_state\"]\n",
    "    result = news_chef.invoke({\"article\": article})\n",
    "    print(f\"news_chef_router: Current state: {state}\")\n",
    "    print(\"News chef result: \", result)\n",
    "    if result.can_be_posted == \"yes\":\n",
    "        return \"publisher\"\n",
    "    elif result.is_language_german == \"yes\":\n",
    "        if result.meets_word_count == \"no\" or result.is_sensationalistic == \"no\":\n",
    "            return \"expander\"\n",
    "    return \"translator\""
   ]
  },
  {
   "cell_type": "code",
   "execution_count": 15,
   "metadata": {},
   "outputs": [],
   "source": [
    "workflow = StateGraph(AgentState)\n",
    "\n",
    "workflow.add_node(\"evaluator\", get_transfer_news_grade)\n",
    "workflow.add_node(\"news_chef\", evaluate_article)\n",
    "workflow.add_node(\"translator\", translate_article)\n",
    "workflow.add_node(\"expander\", expand_article)\n",
    "workflow.add_node(\"publisher\", publisher)\n",
    "\n",
    "workflow.set_entry_point(\"evaluator\")\n",
    "\n",
    "workflow.add_conditional_edges(\n",
    "    \"evaluator\", evaluator_router, {\"news_chef\": \"news_chef\", \"not_relevant\": END}\n",
    ")\n",
    "workflow.add_conditional_edges(\n",
    "    \"news_chef\",\n",
    "    news_chef_router,\n",
    "    {\"translator\": \"translator\", \"publisher\": \"publisher\", \"expander\": \"expander\"},\n",
    ")\n",
    "workflow.add_edge(\"translator\", \"news_chef\")\n",
    "workflow.add_edge(\"expander\", \"news_chef\")\n",
    "workflow.add_edge(\"publisher\", END)\n",
    "\n",
    "app = workflow.compile()"
   ]
  },
  {
   "cell_type": "code",
   "execution_count": 16,
   "metadata": {},
   "outputs": [
    {
     "data": {
      "image/png": "[encoded data removed]",
      "text/plain": [
       "<IPython.core.display.Image object>"
      ]
     },
     "metadata": {},
     "output_type": "display_data"
    }
   ],
   "source": [
    "from IPython.display import Image, display\n",
    "\n",
    "try:\n",
    "    display(Image(app.get_graph(xray=True).draw_mermaid_png()))\n",
    "except:\n",
    "    pass"
   ]
  },
  {
   "cell_type": "code",
   "execution_count": 20,
   "metadata": {},
   "outputs": [
    {
     "name": "stdout",
     "output_type": "stream",
     "text": [
      "get_transfer_news_grade: Current state: {'article_state': 'The Pope will visit Spain today'}\n",
      "Evaluator: Reading article but doing nothing to change it...\n",
      "evaluator_router: Current state: {'article_state': 'The Pope will visit Spain today'}\n",
      "Evaluator result:  binary_score='no'\n",
      "Final result: {'article_state': 'The Pope will visit Spain today'}\n"
     ]
    }
   ],
   "source": [
    "initial_state = {\"article_state\": \"The Pope will visit Spain today\"}\n",
    "result = app.invoke(initial_state)\n",
    "\n",
    "print(\"Final result:\", result)"
   ]
  },
  {
   "cell_type": "code",
   "execution_count": 21,
   "metadata": {},
   "outputs": [
    {
     "name": "stdout",
     "output_type": "stream",
     "text": [
      "get_transfer_news_grade: Current state: {'article_state': 'Messi gonna switch from barca to real madrid'}\n",
      "Evaluator: Reading article but doing nothing to change it...\n",
      "evaluator_router: Current state: {'article_state': 'Messi gonna switch from barca to real madrid'}\n",
      "Evaluator result:  binary_score='yes'\n",
      "evaluate_article: Current state: {'article_state': 'Messi gonna switch from barca to real madrid'}\n",
      "News : Reading article but doing nothing to change it...\n",
      "news_chef_router: Current state: {'article_state': 'Messi gonna switch from barca to real madrid'}\n",
      "News chef result:  can_be_posted='no' meets_word_count='no' is_sensationalistic='yes' is_language_german='no'\n",
      "translate_article: Current state: {'article_state': 'Messi gonna switch from barca to real madrid'}\n",
      "evaluate_article: Current state: {'article_state': 'Messi wechselt von Barca zu Real Madrid'}\n",
      "News : Reading article but doing nothing to change it...\n",
      "news_chef_router: Current state: {'article_state': 'Messi wechselt von Barca zu Real Madrid'}\n",
      "News chef result:  can_be_posted='no' meets_word_count='no' is_sensationalistic='no' is_language_german='yes'\n",
      "expand_article: Current state: {'article_state': 'Messi wechselt von Barca zu Real Madrid'}\n",
      "evaluate_article: Current state: {'article_state': 'Lionel Messi, einer der größten Fußballspieler aller Zeiten, hat eine bahnbrechende Entscheidung getroffen: Er wechselt von seinem langjährigen Verein FC Barcelona zu Real Madrid. Dieser Transfer hat die Fußballwelt erschüttert und die Rivalität zwischen den beiden spanischen Giganten auf ein neues Level gehoben.\\n\\nMessis Entscheidung, Barcelona zu verlassen, markiert das Ende einer Ära und wird zweifellos die Dynamik des spanischen Fußballs verändern. Mit seinem außergewöhnlichen Talent und seiner beeindruckenden Erfolgsbilanz wird Messi zweifellos eine Bereicherung für Real Madrid sein und das Team auf ein höheres Leistungsniveau heben.\\n\\nDie Fans auf der ganzen Welt sind gleichermaßen geschockt und gespannt auf die kommende Saison, in der Messi erstmals das Trikot von Real Madrid tragen wird. Die Derbys zwischen Barcelona und Real Madrid werden nun noch intensiver und mit Spannung erwartet, da Messi gegen seinen ehemaligen Verein antreten wird.\\n\\nEs bleibt abzuwarten, wie sich dieser spektakuläre Transfer auf die La Liga und den internationalen Fußball insgesamt auswirken wird. Eines ist jedoch sicher: Messi wird weiterhin die Massen begeistern und seine Fußspuren in der Geschichte des Sports hinterlassen.'}\n",
      "News : Reading article but doing nothing to change it...\n",
      "news_chef_router: Current state: {'article_state': 'Lionel Messi, einer der größten Fußballspieler aller Zeiten, hat eine bahnbrechende Entscheidung getroffen: Er wechselt von seinem langjährigen Verein FC Barcelona zu Real Madrid. Dieser Transfer hat die Fußballwelt erschüttert und die Rivalität zwischen den beiden spanischen Giganten auf ein neues Level gehoben.\\n\\nMessis Entscheidung, Barcelona zu verlassen, markiert das Ende einer Ära und wird zweifellos die Dynamik des spanischen Fußballs verändern. Mit seinem außergewöhnlichen Talent und seiner beeindruckenden Erfolgsbilanz wird Messi zweifellos eine Bereicherung für Real Madrid sein und das Team auf ein höheres Leistungsniveau heben.\\n\\nDie Fans auf der ganzen Welt sind gleichermaßen geschockt und gespannt auf die kommende Saison, in der Messi erstmals das Trikot von Real Madrid tragen wird. Die Derbys zwischen Barcelona und Real Madrid werden nun noch intensiver und mit Spannung erwartet, da Messi gegen seinen ehemaligen Verein antreten wird.\\n\\nEs bleibt abzuwarten, wie sich dieser spektakuläre Transfer auf die La Liga und den internationalen Fußball insgesamt auswirken wird. Eines ist jedoch sicher: Messi wird weiterhin die Massen begeistern und seine Fußspuren in der Geschichte des Sports hinterlassen.'}\n",
      "News chef result:  can_be_posted='yes' meets_word_count='yes' is_sensationalistic='yes' is_language_german='yes'\n",
      "publisher: Current state: {'article_state': 'Lionel Messi, einer der größten Fußballspieler aller Zeiten, hat eine bahnbrechende Entscheidung getroffen: Er wechselt von seinem langjährigen Verein FC Barcelona zu Real Madrid. Dieser Transfer hat die Fußballwelt erschüttert und die Rivalität zwischen den beiden spanischen Giganten auf ein neues Level gehoben.\\n\\nMessis Entscheidung, Barcelona zu verlassen, markiert das Ende einer Ära und wird zweifellos die Dynamik des spanischen Fußballs verändern. Mit seinem außergewöhnlichen Talent und seiner beeindruckenden Erfolgsbilanz wird Messi zweifellos eine Bereicherung für Real Madrid sein und das Team auf ein höheres Leistungsniveau heben.\\n\\nDie Fans auf der ganzen Welt sind gleichermaßen geschockt und gespannt auf die kommende Saison, in der Messi erstmals das Trikot von Real Madrid tragen wird. Die Derbys zwischen Barcelona und Real Madrid werden nun noch intensiver und mit Spannung erwartet, da Messi gegen seinen ehemaligen Verein antreten wird.\\n\\nEs bleibt abzuwarten, wie sich dieser spektakuläre Transfer auf die La Liga und den internationalen Fußball insgesamt auswirken wird. Eines ist jedoch sicher: Messi wird weiterhin die Massen begeistern und seine Fußspuren in der Geschichte des Sports hinterlassen.'}\n",
      "FINAL_STATE in publisher: {'article_state': 'Lionel Messi, einer der größten Fußballspieler aller Zeiten, hat eine bahnbrechende Entscheidung getroffen: Er wechselt von seinem langjährigen Verein FC Barcelona zu Real Madrid. Dieser Transfer hat die Fußballwelt erschüttert und die Rivalität zwischen den beiden spanischen Giganten auf ein neues Level gehoben.\\n\\nMessis Entscheidung, Barcelona zu verlassen, markiert das Ende einer Ära und wird zweifellos die Dynamik des spanischen Fußballs verändern. Mit seinem außergewöhnlichen Talent und seiner beeindruckenden Erfolgsbilanz wird Messi zweifellos eine Bereicherung für Real Madrid sein und das Team auf ein höheres Leistungsniveau heben.\\n\\nDie Fans auf der ganzen Welt sind gleichermaßen geschockt und gespannt auf die kommende Saison, in der Messi erstmals das Trikot von Real Madrid tragen wird. Die Derbys zwischen Barcelona und Real Madrid werden nun noch intensiver und mit Spannung erwartet, da Messi gegen seinen ehemaligen Verein antreten wird.\\n\\nEs bleibt abzuwarten, wie sich dieser spektakuläre Transfer auf die La Liga und den internationalen Fußball insgesamt auswirken wird. Eines ist jedoch sicher: Messi wird weiterhin die Massen begeistern und seine Fußspuren in der Geschichte des Sports hinterlassen.'}\n",
      "Final result: {'article_state': 'Lionel Messi, einer der größten Fußballspieler aller Zeiten, hat eine bahnbrechende Entscheidung getroffen: Er wechselt von seinem langjährigen Verein FC Barcelona zu Real Madrid. Dieser Transfer hat die Fußballwelt erschüttert und die Rivalität zwischen den beiden spanischen Giganten auf ein neues Level gehoben.\\n\\nMessis Entscheidung, Barcelona zu verlassen, markiert das Ende einer Ära und wird zweifellos die Dynamik des spanischen Fußballs verändern. Mit seinem außergewöhnlichen Talent und seiner beeindruckenden Erfolgsbilanz wird Messi zweifellos eine Bereicherung für Real Madrid sein und das Team auf ein höheres Leistungsniveau heben.\\n\\nDie Fans auf der ganzen Welt sind gleichermaßen geschockt und gespannt auf die kommende Saison, in der Messi erstmals das Trikot von Real Madrid tragen wird. Die Derbys zwischen Barcelona und Real Madrid werden nun noch intensiver und mit Spannung erwartet, da Messi gegen seinen ehemaligen Verein antreten wird.\\n\\nEs bleibt abzuwarten, wie sich dieser spektakuläre Transfer auf die La Liga und den internationalen Fußball insgesamt auswirken wird. Eines ist jedoch sicher: Messi wird weiterhin die Massen begeistern und seine Fußspuren in der Geschichte des Sports hinterlassen.'}\n"
     ]
    }
   ],
   "source": [
    "initial_state = {\"article_state\": \"Messi gonna switch from barca to real madrid\"}\n",
    "result = app.invoke(initial_state)\n",
    "\n",
    "print(\"Final result:\", result)"
   ]
  }
 ],
 "metadata": {
  "kernelspec": {
   "display_name": "venv",
   "language": "python",
   "name": "python3"
  },
  "language_info": {
   "codemirror_mode": {
    "name": "ipython",
    "version": 3
   },
   "file_extension": ".py",
   "mimetype": "text/x-python",
   "name": "python",
   "nbconvert_exporter": "python",
   "pygments_lexer": "ipython3",
   "version": "3.11.6"
  }
 },
 "nbformat": 4,
 "nbformat_minor": 2
}
